{
 "cells": [
  {
   "cell_type": "markdown",
   "metadata": {},
   "source": [
    "# Hello, Fargate"
   ]
  },
  {
   "cell_type": "markdown",
   "metadata": {},
   "source": [
    "## VPC\n",
    "\n",
    "For fargate, we build a vpc that provides the networking context used to tie together the compute\n",
    "resources used for the Fargate cluster, as well as to security context around network access and flows,\n",
    "load balancer presence, etc.\n",
    "\n",
    "For this project, we want to run containers that do not have a public address tied to them, with their images\n",
    "pulled from docker hub. The combination of these two factors means they need to run in private subnets that can\n",
    "access the external internet via a NAT gateway.\n",
    "\n",
    "We also want a load balancer that can distribute requests from the outside to container ports. This means\n",
    "we need a load balancer associated with our public subnets."
   ]
  },
  {
   "cell_type": "code",
   "execution_count": null,
   "metadata": {
    "collapsed": true
   },
   "outputs": [],
   "source": [
    "stack_prefix = 'fg1-'"
   ]
  },
  {
   "cell_type": "code",
   "execution_count": null,
   "metadata": {
    "collapsed": true
   },
   "outputs": [],
   "source": [
    "cf_bucket = 'ds-deploy-us-east-1'\n",
    "template_name = 'vpc.yml'\n",
    "vpc_stack = stack_prefix + 'vpc'"
   ]
  },
  {
   "cell_type": "code",
   "execution_count": null,
   "metadata": {
    "collapsed": false
   },
   "outputs": [],
   "source": [
    "%%bash -s \"$template_name\" \"$cf_bucket\"\n",
    "echo $2\n",
    "ls $1\n",
    "aws s3 cp ./$1 s3://$2"
   ]
  },
  {
   "cell_type": "code",
   "execution_count": null,
   "metadata": {
    "collapsed": true
   },
   "outputs": [],
   "source": [
    "import boto3\n",
    "\n",
    "client = boto3.client('cloudformation')"
   ]
  },
  {
   "cell_type": "code",
   "execution_count": null,
   "metadata": {
    "collapsed": true
   },
   "outputs": [],
   "source": [
    "def form_s3_url_prefix(region):\n",
    "    prefix = ''\n",
    "    if region == 'us-east-1':\n",
    "        prefix = 'https://s3.amazonaws.com'\n",
    "    else:\n",
    "        prefix = 'https://s3-' + region + '.amazonaws.com'\n",
    "    return prefix"
   ]
  },
  {
   "cell_type": "code",
   "execution_count": null,
   "metadata": {
    "collapsed": false
   },
   "outputs": [],
   "source": [
    "import os\n",
    "region = os.environ['AWS_DEFAULT_REGION']\n",
    "bucketRoot = form_s3_url_prefix(region) + '/' + cf_bucket\n",
    "print bucketRoot"
   ]
  },
  {
   "cell_type": "code",
   "execution_count": null,
   "metadata": {
    "collapsed": false
   },
   "outputs": [],
   "source": [
    "response = client.create_stack(\n",
    "    StackName=vpc_stack,\n",
    "    TemplateURL=bucketRoot + '/' + template_name\n",
    ")\n",
    "\n",
    "print response"
   ]
  },
  {
   "cell_type": "code",
   "execution_count": null,
   "metadata": {
    "collapsed": false
   },
   "outputs": [],
   "source": [
    "# Wait for it...\n",
    "waiter = client.get_waiter('stack_create_complete')\n",
    "waiter.wait(\n",
    "    StackName=vpc_stack\n",
    ")\n",
    "\n",
    "print 'stack created'"
   ]
  },
  {
   "cell_type": "code",
   "execution_count": null,
   "metadata": {
    "collapsed": false
   },
   "outputs": [],
   "source": [
    "# Extract outputs needed for the next stack component\n",
    "response = client.describe_stacks(\n",
    "    StackName=vpc_stack\n",
    ")\n",
    "\n",
    "outputs = response['Stacks'][0]['Outputs']\n",
    "print outputs\n",
    "\n",
    "private_subnet_1 = [o for o in outputs if o['OutputKey'] == 'PrivateSubnet1'][0]['OutputValue']\n",
    "private_subnet_2 = [o for o in outputs if o['OutputKey'] == 'PrivateSubnet2'][0]['OutputValue']\n",
    "lb_ingress_sg = [o for o in outputs if o['OutputKey'] == 'LBIngressSecurityGroup'][0]['OutputValue']\n",
    "web_ingress_sg = [o for o in outputs if o['OutputKey'] == 'WebIngressSecurityGroup'][0]['OutputValue']\n",
    "vpc_id = [o for o in outputs if o['OutputKey'] == 'VpcId'][0]['OutputValue']\n",
    "\n",
    "print private_subnet_1\n",
    "print private_subnet_2\n",
    "print lb_ingress_sg\n",
    "print web_ingress_sg\n",
    "print vpc_id"
   ]
  },
  {
   "cell_type": "code",
   "execution_count": null,
   "metadata": {
    "collapsed": true
   },
   "outputs": [],
   "source": []
  }
 ],
 "metadata": {
  "kernelspec": {
   "display_name": "Python 2",
   "language": "python",
   "name": "python2"
  },
  "language_info": {
   "codemirror_mode": {
    "name": "ipython",
    "version": 2
   },
   "file_extension": ".py",
   "mimetype": "text/x-python",
   "name": "python",
   "nbconvert_exporter": "python",
   "pygments_lexer": "ipython2",
   "version": "2.7.12"
  }
 },
 "nbformat": 4,
 "nbformat_minor": 0
}
