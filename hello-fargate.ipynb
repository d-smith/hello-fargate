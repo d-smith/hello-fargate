{
 "cells": [
  {
   "cell_type": "markdown",
   "metadata": {},
   "source": [
    "# Hello, Fargate"
   ]
  },
  {
   "cell_type": "markdown",
   "metadata": {},
   "source": [
    "## VPC\n",
    "\n",
    "For fargate, we build a vpc that provides the networking context used to tie together the compute\n",
    "resources used for the Fargate cluster, as well as to security context around network access and flows,\n",
    "load balancer presence, etc.\n",
    "\n",
    "For this project, we want to run containers that do not have a public address tied to them, with their images\n",
    "pulled from docker hub. The combination of these two factors means they need to run in private subnets that can\n",
    "access the external internet via a NAT gateway.\n",
    "\n",
    "We also want a load balancer that can distribute requests from the outside to container ports. This means\n",
    "we need a load balancer associated with our public subnets."
   ]
  },
  {
   "cell_type": "code",
   "execution_count": null,
   "metadata": {
    "collapsed": true
   },
   "outputs": [],
   "source": [
    "stack_prefix = 'fg1-'"
   ]
  },
  {
   "cell_type": "code",
   "execution_count": null,
   "metadata": {
    "collapsed": true
   },
   "outputs": [],
   "source": [
    "cf_bucket = 'ds-deploy-us-east-1'\n",
    "template_name = 'vpc.yml'\n",
    "vpc_stack = stack_prefix + 'vpc'"
   ]
  },
  {
   "cell_type": "code",
   "execution_count": null,
   "metadata": {
    "collapsed": false
   },
   "outputs": [],
   "source": [
    "%%bash -s \"$template_name\" \"$cf_bucket\"\n",
    "echo $2\n",
    "ls $1\n",
    "aws s3 cp ./$1 s3://$2"
   ]
  },
  {
   "cell_type": "code",
   "execution_count": null,
   "metadata": {
    "collapsed": true
   },
   "outputs": [],
   "source": [
    "import boto3\n",
    "\n",
    "client = boto3.client('cloudformation')"
   ]
  },
  {
   "cell_type": "code",
   "execution_count": null,
   "metadata": {
    "collapsed": true
   },
   "outputs": [],
   "source": [
    "def form_s3_url_prefix(region):\n",
    "    prefix = ''\n",
    "    if region == 'us-east-1':\n",
    "        prefix = 'https://s3.amazonaws.com'\n",
    "    else:\n",
    "        prefix = 'https://s3-' + region + '.amazonaws.com'\n",
    "    return prefix"
   ]
  },
  {
   "cell_type": "code",
   "execution_count": null,
   "metadata": {
    "collapsed": false
   },
   "outputs": [],
   "source": [
    "import os\n",
    "region = os.environ['AWS_DEFAULT_REGION']\n",
    "bucketRoot = form_s3_url_prefix(region) + '/' + cf_bucket\n",
    "print bucketRoot"
   ]
  },
  {
   "cell_type": "code",
   "execution_count": null,
   "metadata": {
    "collapsed": false
   },
   "outputs": [],
   "source": [
    "response = client.create_stack(\n",
    "    StackName=vpc_stack,\n",
    "    TemplateURL=bucketRoot + '/' + template_name\n",
    ")\n",
    "\n",
    "print response"
   ]
  },
  {
   "cell_type": "code",
   "execution_count": null,
   "metadata": {
    "collapsed": false
   },
   "outputs": [],
   "source": [
    "# Wait for it...\n",
    "waiter = client.get_waiter('stack_create_complete')\n",
    "waiter.wait(\n",
    "    StackName=vpc_stack\n",
    ")\n",
    "\n",
    "print 'stack created'"
   ]
  },
  {
   "cell_type": "code",
   "execution_count": null,
   "metadata": {
    "collapsed": false
   },
   "outputs": [],
   "source": [
    "# Extract outputs needed for the next stack component\n",
    "response = client.describe_stacks(\n",
    "    StackName=vpc_stack\n",
    ")\n",
    "\n",
    "outputs = response['Stacks'][0]['Outputs']\n",
    "print outputs\n",
    "\n",
    "private_subnet_1 = [o for o in outputs if o['OutputKey'] == 'PrivateSubnet1'][0]['OutputValue']\n",
    "private_subnet_2 = [o for o in outputs if o['OutputKey'] == 'PrivateSubnet2'][0]['OutputValue']\n",
    "public_subnet_1 = [o for o in outputs if o['OutputKey'] == 'PublicSubnet1'][0]['OutputValue']\n",
    "public_subnet_2 = [o for o in outputs if o['OutputKey'] == 'PublicSubnet2'][0]['OutputValue']\n",
    "lb_ingress_sg = [o for o in outputs if o['OutputKey'] == 'LBIngressSecurityGroup'][0]['OutputValue']\n",
    "web_ingress_sg = [o for o in outputs if o['OutputKey'] == 'WebIngressSecurityGroup'][0]['OutputValue']\n",
    "vpc_id = [o for o in outputs if o['OutputKey'] == 'VpcId'][0]['OutputValue']\n",
    "\n",
    "print private_subnet_1\n",
    "print private_subnet_2\n",
    "print public_subnet_1\n",
    "print public_subnet_2\n",
    "print lb_ingress_sg\n",
    "print web_ingress_sg\n",
    "print vpc_id"
   ]
  },
  {
   "cell_type": "markdown",
   "metadata": {},
   "source": [
    "## Load Balancer"
   ]
  },
  {
   "cell_type": "code",
   "execution_count": null,
   "metadata": {
    "collapsed": true
   },
   "outputs": [],
   "source": [
    "lb_template_name = 'lb.yml'\n",
    "lb_stack = stack_prefix + 'lb'\n",
    "load_balancer_name = stack_prefix + 'lb'"
   ]
  },
  {
   "cell_type": "code",
   "execution_count": null,
   "metadata": {
    "collapsed": false
   },
   "outputs": [],
   "source": [
    "%%bash -s \"$lb_template_name\" \"$cf_bucket\"\n",
    "echo $2\n",
    "ls $1\n",
    "aws s3 cp ./$1 s3://$2"
   ]
  },
  {
   "cell_type": "code",
   "execution_count": null,
   "metadata": {
    "collapsed": false
   },
   "outputs": [],
   "source": [
    "response = client.create_stack(\n",
    "    StackName=lb_stack,\n",
    "    TemplateURL=bucketRoot + '/' + lb_template_name,\n",
    "    Parameters=[\n",
    "        {\n",
    "            'ParameterKey': 'LoadBalancerName',\n",
    "            'ParameterValue': load_balancer_name\n",
    "        },\n",
    "        {\n",
    "            'ParameterKey': 'VpcId',\n",
    "            'ParameterValue': vpc_id\n",
    "        },\n",
    "        {\n",
    "            'ParameterKey': 'PublicSubnet1',\n",
    "            'ParameterValue': public_subnet_1\n",
    "        },\n",
    "        {\n",
    "            'ParameterKey': 'PublicSubnet2',\n",
    "            'ParameterValue': public_subnet_2\n",
    "        },\n",
    "        {\n",
    "            'ParameterKey': 'LBSecurityGroup',\n",
    "            'ParameterValue': web_ingress_sg\n",
    "        }\n",
    "    ],\n",
    "    Capabilities=[\n",
    "        'CAPABILITY_IAM',\n",
    "    ]\n",
    ")\n",
    "\n",
    "print response"
   ]
  },
  {
   "cell_type": "code",
   "execution_count": null,
   "metadata": {
    "collapsed": false
   },
   "outputs": [],
   "source": [
    "# Wait for it...\n",
    "print 'wait for lb stack'\n",
    "waiter = client.get_waiter('stack_create_complete')\n",
    "waiter.wait(\n",
    "    StackName=lb_stack\n",
    ")\n",
    "\n",
    "print 'stack created'"
   ]
  },
  {
   "cell_type": "code",
   "execution_count": null,
   "metadata": {
    "collapsed": false
   },
   "outputs": [],
   "source": [
    "# Extract outputs needed for the next stack component\n",
    "response = client.describe_stacks(\n",
    "    StackName=lb_stack\n",
    ")\n",
    "\n",
    "outputs = response['Stacks'][0]['Outputs']\n",
    "print outputs\n",
    "\n",
    "lb_target_arn = [o for o in outputs if o['OutputKey'] == 'TargetGroup'][0]['OutputValue']\n",
    "\n",
    "print lb_target_arn\n"
   ]
  },
  {
   "cell_type": "code",
   "execution_count": null,
   "metadata": {
    "collapsed": true
   },
   "outputs": [],
   "source": [
    "fg_template_name = 'fargate.yml'\n",
    "fg_stack = stack_prefix + 'fg'\n",
    "load_balancer_name = stack_prefix + 'fg'"
   ]
  },
  {
   "cell_type": "code",
   "execution_count": null,
   "metadata": {
    "collapsed": false
   },
   "outputs": [],
   "source": [
    "%%bash -s \"$fg_template_name\" \"$cf_bucket\"\n",
    "echo $2\n",
    "ls $1\n",
    "aws s3 cp ./$1 s3://$2"
   ]
  },
  {
   "cell_type": "code",
   "execution_count": null,
   "metadata": {
    "collapsed": false
   },
   "outputs": [],
   "source": [
    "response = client.create_stack(\n",
    "    StackName=fg_stack,\n",
    "    TemplateURL=bucketRoot + '/' + fg_template_name,\n",
    "    Parameters=[\n",
    "        {\n",
    "            'ParameterKey': 'LoadBalancerTGArn',\n",
    "            'ParameterValue': lb_target_arn\n",
    "        },\n",
    "        {\n",
    "            'ParameterKey': 'PrivateSubnet1',\n",
    "            'ParameterValue': private_subnet_1\n",
    "        },\n",
    "        {\n",
    "            'ParameterKey': 'PrivateSubnet2',\n",
    "            'ParameterValue': private_subnet_2\n",
    "        },\n",
    "        {\n",
    "            'ParameterKey': 'LBIngressSecurityGroup',\n",
    "            'ParameterValue': lb_ingress_sg\n",
    "        }\n",
    "    ],\n",
    "    Capabilities=[\n",
    "        'CAPABILITY_IAM',\n",
    "    ]\n",
    ")\n",
    "\n",
    "print response"
   ]
  },
  {
   "cell_type": "code",
   "execution_count": null,
   "metadata": {
    "collapsed": false
   },
   "outputs": [],
   "source": [
    "# Wait for it...\n",
    "print 'wait for fargate stack'\n",
    "waiter = client.get_waiter('stack_create_complete')\n",
    "waiter.wait(\n",
    "    StackName=fg_stack\n",
    ")\n",
    "\n",
    "print 'stack created'"
   ]
  },
  {
   "cell_type": "code",
   "execution_count": null,
   "metadata": {
    "collapsed": true
   },
   "outputs": [],
   "source": []
  }
 ],
 "metadata": {
  "kernelspec": {
   "display_name": "Python 2",
   "language": "python",
   "name": "python2"
  },
  "language_info": {
   "codemirror_mode": {
    "name": "ipython",
    "version": 2
   },
   "file_extension": ".py",
   "mimetype": "text/x-python",
   "name": "python",
   "nbconvert_exporter": "python",
   "pygments_lexer": "ipython2",
   "version": "2.7.12"
  }
 },
 "nbformat": 4,
 "nbformat_minor": 0
}
